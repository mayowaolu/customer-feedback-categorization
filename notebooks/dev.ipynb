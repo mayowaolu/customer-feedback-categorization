{
 "cells": [
  {
   "cell_type": "code",
   "execution_count": 1,
   "metadata": {},
   "outputs": [
    {
     "name": "stderr",
     "output_type": "stream",
     "text": [
      "/scratch/joluseti/projects/customer-feedback-categorization/.venv/lib/python3.9/site-packages/tqdm/auto.py:21: TqdmWarning: IProgress not found. Please update jupyter and ipywidgets. See https://ipywidgets.readthedocs.io/en/stable/user_install.html\n",
      "  from .autonotebook import tqdm as notebook_tqdm\n"
     ]
    }
   ],
   "source": [
    "from datasets import load_dataset\n",
    "\n",
    "# Amazon reviews\n",
    "dataset = load_dataset(\"amazon_polarity\")"
   ]
  },
  {
   "cell_type": "code",
   "execution_count": 4,
   "metadata": {},
   "outputs": [
    {
     "name": "stdout",
     "output_type": "stream",
     "text": [
      "DatasetDict({\n",
      "    train: Dataset({\n",
      "        features: ['label', 'title', 'content'],\n",
      "        num_rows: 3600000\n",
      "    })\n",
      "    test: Dataset({\n",
      "        features: ['label', 'title', 'content'],\n",
      "        num_rows: 400000\n",
      "    })\n",
      "})\n",
      "{'label': 0, 'title': 'Hot lava Indeed', 'content': \"I completely agree... the album seems so unlike such a thoughfull and talented band. Not to say i've lost faith in dredg , just i need some time to get over this travesty.\"}\n"
     ]
    }
   ],
   "source": [
    "print(dataset)\n",
    "print(dataset[\"train\"][1033])"
   ]
  },
  {
   "cell_type": "code",
   "execution_count": 19,
   "metadata": {},
   "outputs": [],
   "source": [
    "import re\n",
    "from transformers import AutoTokenizer, AutoModelForSequenceClassification\n",
    "import torch"
   ]
  },
  {
   "cell_type": "code",
   "execution_count": 5,
   "metadata": {},
   "outputs": [],
   "source": [
    "import torch\n",
    "from transformers import pipeline\n",
    "import wandb\n",
    "import mlflow\n",
    "import pandas\n"
   ]
  },
  {
   "cell_type": "code",
   "execution_count": 6,
   "metadata": {},
   "outputs": [],
   "source": [
    "class ReviewClassifier:\n",
    "    def __init__(self, model_name=\"facebook/bart-large-mnil\"):\n",
    "        self.model_name = model_name\n",
    "        self.categories = [\n",
    "            \"Product Quality\", \n",
    "            \"Delivery Issues\", \n",
    "            \"Customer Service\", \n",
    "            \"Price Concerns\", \n",
    "            \"Packaging Issues\", \n",
    "            \"Product Expectations\", \n",
    "            \"Technical Issues\", \n",
    "            \"Others\"\n",
    "        ]\n",
    "\n",
    "        self.classifier = pipeline(task=\"zero-shot-classification\", model=model_name)\n",
    "    \n",
    "    def classify_review(self, review_text: str):\n",
    "        \"\"\" Classify a single review into one of the predefined categories \"\"\"\n",
    "        result = self.classifier(\n",
    "            sequences = review_text,\n",
    "            candidate_labels = self.categories,\n",
    "            hypothesis_template = \"This review is about {}\"\n",
    "        )\n",
    "\n",
    "        # Returns the most likely category and its scores\n",
    "        top_category = result[\"labels\"][0]\n",
    "        top_score = result[\"scores\"][0]\n",
    "\n",
    "        # Full result for logging\n",
    "        category_scores = {\n",
    "            category: score\n",
    "            for category, score in zip(result[\"labels\"], result[\"scores\"])\n",
    "        }\n",
    "\n",
    "        return {\n",
    "            \"top_category\": top_category,\n",
    "            \"top_score\": top_score,\n",
    "            \"all_scores\": category_scores\n",
    "        }\n",
    "\n",
    "    def batch_classify(self, reviews: list):\n",
    "        \"\"\" Classify a batch of reviews\"\"\"\n",
    "        results = []\n",
    "\n",
    "        for review in reviews:\n",
    "            results.append(self.classify_review(review))\n",
    "        return results\n",
    "\n",
    "    def log_to_wandb(self, review, classification_result):\n",
    "        \"\"\" Log classification results in weights and bias \"\"\"\n",
    "        wandb.log({\n",
    "            \"review\": review,\n",
    "            \"predicted_category\": classification_result[\"top_category\"],\n",
    "            \"confidence\": classification_result[\"confidence\"],\n",
    "            \"category_scores\": classification_result[\"all_scores\"]\n",
    "        })\n",
    "\n",
    "    def log_to_mlflow(self, review, classification_result):\n",
    "    \n",
    "        \"\"\"Log classification results to MLflow\"\"\"\n",
    "    \n",
    "        with mlflow.start_run():\n",
    "            mlflow.log_param(\"model_name\", self.model_name)\n",
    "            mlflow.log_param(\"review\", review)\n",
    "            mlflow.log_metric(\"confidence\", classification_result[\"confidence\"])\n",
    "            \n",
    "            # Log the category as a tag\n",
    "            mlflow.set_tag(\"predicted_category\", classification_result[\"top_category\"])\n",
    "            \n",
    "            # Log all scores\n",
    "            for category, score in classification_result[\"all_scores\"].items():\n",
    "                mlflow.log_metric(f\"score_{category.replace(' ', '_')}\", score)"
   ]
  },
  {
   "cell_type": "code",
   "execution_count": 8,
   "metadata": {},
   "outputs": [],
   "source": [
    "from fastapi import FastAPI, HTTPException\n",
    "from pydantic import BaseModel\n",
    "import mlflow\n",
    "import wandb\n",
    "from typing import List, Optional\n",
    "import uvicorn\n",
    "#from classifier import ReviewClassifier"
   ]
  },
  {
   "cell_type": "code",
   "execution_count": null,
   "metadata": {},
   "outputs": [],
   "source": []
  }
 ],
 "metadata": {
  "kernelspec": {
   "display_name": "cf-proj",
   "language": "python",
   "name": "cf-proj"
  },
  "language_info": {
   "codemirror_mode": {
    "name": "ipython",
    "version": 3
   },
   "file_extension": ".py",
   "mimetype": "text/x-python",
   "name": "python",
   "nbconvert_exporter": "python",
   "pygments_lexer": "ipython3",
   "version": "3.9.9"
  }
 },
 "nbformat": 4,
 "nbformat_minor": 2
}
